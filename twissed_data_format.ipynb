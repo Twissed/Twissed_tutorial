{
 "cells": [
  {
   "attachments": {},
   "cell_type": "markdown",
   "metadata": {},
   "source": [
    "# twissed\n",
    "\n",
    "* Author: D. Minenna\n",
    "* Date: January 2024\n",
    "\n",
    "Tutorial on using the twissed package.\n",
    "In this notebook, we are presenting the data management functions.\n",
    "\n",
    "## Import\n",
    "The import of the package is done by the command:\n",
    "```python\n",
    "import twissed\n",
    "```"
   ]
  },
  {
   "cell_type": "code",
   "execution_count": 1,
   "metadata": {},
   "outputs": [
    {
     "name": "stdout",
     "output_type": "stream",
     "text": [
      "\n",
      " twissed (v2.1.1, 2023/01/25)\n",
      "\n"
     ]
    }
   ],
   "source": [
    "# twissed\n",
    "import twissed\n"
   ]
  },
  {
   "cell_type": "markdown",
   "metadata": {},
   "source": [
    "Several SI prefixes are defined."
   ]
  },
  {
   "cell_type": "code",
   "execution_count": 2,
   "metadata": {},
   "outputs": [
    {
     "name": "stdout",
     "output_type": "stream",
     "text": [
      "1e-06\n",
      "1000000.0\n",
      "1000000000000000.0\n",
      "1e-15\n"
     ]
    }
   ],
   "source": [
    "print(twissed.micro) # 1e-6\n",
    "print(twissed.mega) # 1e6\n",
    "print(twissed.peta) # 1e12\n",
    "print(twissed.femto) # 1e-15\n",
    "# ...."
   ]
  },
  {
   "cell_type": "markdown",
   "metadata": {},
   "source": [
    "A unit conversion function is available"
   ]
  },
  {
   "cell_type": "code",
   "execution_count": 3,
   "metadata": {},
   "outputs": [
    {
     "name": "stdout",
     "output_type": "stream",
     "text": [
      "1000.0\n",
      "1.0000000000000001e-24\n"
     ]
    }
   ],
   "source": [
    "print(twissed.convert_units(\"km\",\"m\")) # 1e3\n",
    "print(twissed.convert_units(\"frad\",\"Grad\")) # We always need a tool to convert femto.radian into giga.radian"
   ]
  },
  {
   "cell_type": "markdown",
   "metadata": {},
   "source": [
    "The package contains lists of data in standardized formats. This database includes units, name in latex (for plots) and general information."
   ]
  },
  {
   "cell_type": "code",
   "execution_count": 4,
   "metadata": {},
   "outputs": [
    {
     "data": {
      "text/html": [
       "<div>\n",
       "<style scoped>\n",
       "    .dataframe tbody tr th:only-of-type {\n",
       "        vertical-align: middle;\n",
       "    }\n",
       "\n",
       "    .dataframe tbody tr th {\n",
       "        vertical-align: top;\n",
       "    }\n",
       "\n",
       "    .dataframe thead th {\n",
       "        text-align: right;\n",
       "    }\n",
       "</style>\n",
       "<table border=\"1\" class=\"dataframe\">\n",
       "  <thead>\n",
       "    <tr style=\"text-align: right;\">\n",
       "      <th></th>\n",
       "      <th>name_latex</th>\n",
       "      <th>info</th>\n",
       "      <th>type</th>\n",
       "      <th>units</th>\n",
       "    </tr>\n",
       "  </thead>\n",
       "  <tbody>\n",
       "    <tr>\n",
       "      <th>twissed_version</th>\n",
       "      <td>twissed version</td>\n",
       "      <td>Version of twissed used to generate the data.</td>\n",
       "      <td>str</td>\n",
       "      <td>NaN</td>\n",
       "    </tr>\n",
       "    <tr>\n",
       "      <th>project_name</th>\n",
       "      <td>Project name</td>\n",
       "      <td>Name of the twissed project.</td>\n",
       "      <td>str</td>\n",
       "      <td>NaN</td>\n",
       "    </tr>\n",
       "    <tr>\n",
       "      <th>project_author</th>\n",
       "      <td>Project name</td>\n",
       "      <td>Name of the twissed project.</td>\n",
       "      <td>str</td>\n",
       "      <td>NaN</td>\n",
       "    </tr>\n",
       "    <tr>\n",
       "      <th>project_description</th>\n",
       "      <td>Project name</td>\n",
       "      <td>Name of the twissed project.</td>\n",
       "      <td>str</td>\n",
       "      <td>NaN</td>\n",
       "    </tr>\n",
       "    <tr>\n",
       "      <th>project_type</th>\n",
       "      <td>Project type</td>\n",
       "      <td>Type of the twissed project (LWFA, ...).</td>\n",
       "      <td>str</td>\n",
       "      <td>NaN</td>\n",
       "    </tr>\n",
       "    <tr>\n",
       "      <th>...</th>\n",
       "      <td>...</td>\n",
       "      <td>...</td>\n",
       "      <td>...</td>\n",
       "      <td>...</td>\n",
       "    </tr>\n",
       "    <tr>\n",
       "      <th>waist0_max</th>\n",
       "      <td>$w_0$</td>\n",
       "      <td>Maximum laser waist.</td>\n",
       "      <td>float</td>\n",
       "      <td>m</td>\n",
       "    </tr>\n",
       "    <tr>\n",
       "      <th>zfield_a0</th>\n",
       "      <td>$z$</td>\n",
       "      <td>Grid positions z of a0_max</td>\n",
       "      <td>np.ndarray</td>\n",
       "      <td>m</td>\n",
       "    </tr>\n",
       "    <tr>\n",
       "      <th>z_FWHM_intensity_simu</th>\n",
       "      <td>Longitudinal FWHM intensity</td>\n",
       "      <td>FWHM length of the intensity in the longitudin...</td>\n",
       "      <td>float</td>\n",
       "      <td>m</td>\n",
       "    </tr>\n",
       "    <tr>\n",
       "      <th>r_FWHM_intensity_simu</th>\n",
       "      <td>Transverse FWHM intensity</td>\n",
       "      <td>FWHM length of the intensity in the transverse...</td>\n",
       "      <td>float</td>\n",
       "      <td>m</td>\n",
       "    </tr>\n",
       "    <tr>\n",
       "      <th>timesteps</th>\n",
       "      <td>timesteps</td>\n",
       "      <td>Simulation time step indexes.</td>\n",
       "      <td>np.ndarray</td>\n",
       "      <td>NaN</td>\n",
       "    </tr>\n",
       "  </tbody>\n",
       "</table>\n",
       "<p>156 rows × 4 columns</p>\n",
       "</div>"
      ],
      "text/plain": [
       "                                        name_latex  \\\n",
       "twissed_version                    twissed version   \n",
       "project_name                          Project name   \n",
       "project_author                        Project name   \n",
       "project_description                   Project name   \n",
       "project_type                          Project type   \n",
       "...                                            ...   \n",
       "waist0_max                                   $w_0$   \n",
       "zfield_a0                                      $z$   \n",
       "z_FWHM_intensity_simu  Longitudinal FWHM intensity   \n",
       "r_FWHM_intensity_simu    Transverse FWHM intensity   \n",
       "timesteps                                timesteps   \n",
       "\n",
       "                                                                    info  \\\n",
       "twissed_version            Version of twissed used to generate the data.   \n",
       "project_name                                Name of the twissed project.   \n",
       "project_author                              Name of the twissed project.   \n",
       "project_description                         Name of the twissed project.   \n",
       "project_type                    Type of the twissed project (LWFA, ...).   \n",
       "...                                                                  ...   \n",
       "waist0_max                                          Maximum laser waist.   \n",
       "zfield_a0                                     Grid positions z of a0_max   \n",
       "z_FWHM_intensity_simu  FWHM length of the intensity in the longitudin...   \n",
       "r_FWHM_intensity_simu  FWHM length of the intensity in the transverse...   \n",
       "timesteps                                  Simulation time step indexes.   \n",
       "\n",
       "                             type units  \n",
       "twissed_version               str   NaN  \n",
       "project_name                  str   NaN  \n",
       "project_author                str   NaN  \n",
       "project_description           str   NaN  \n",
       "project_type                  str   NaN  \n",
       "...                           ...   ...  \n",
       "waist0_max                  float     m  \n",
       "zfield_a0              np.ndarray     m  \n",
       "z_FWHM_intensity_simu       float     m  \n",
       "r_FWHM_intensity_simu       float     m  \n",
       "timesteps              np.ndarray   NaN  \n",
       "\n",
       "[156 rows x 4 columns]"
      ]
     },
     "execution_count": 4,
     "metadata": {},
     "output_type": "execute_result"
    }
   ],
   "source": [
    "twissed.STD_DATABASE_DF # or dictionary version: skypiea.STD_DATABASE"
   ]
  },
  {
   "cell_type": "code",
   "execution_count": 5,
   "metadata": {},
   "outputs": [
    {
     "data": {
      "text/html": [
       "<div>\n",
       "<style scoped>\n",
       "    .dataframe tbody tr th:only-of-type {\n",
       "        vertical-align: middle;\n",
       "    }\n",
       "\n",
       "    .dataframe tbody tr th {\n",
       "        vertical-align: top;\n",
       "    }\n",
       "\n",
       "    .dataframe thead th {\n",
       "        text-align: right;\n",
       "    }\n",
       "</style>\n",
       "<table border=\"1\" class=\"dataframe\">\n",
       "  <thead>\n",
       "    <tr style=\"text-align: right;\">\n",
       "      <th></th>\n",
       "      <th>units</th>\n",
       "      <th>info</th>\n",
       "    </tr>\n",
       "  </thead>\n",
       "  <tbody>\n",
       "    <tr>\n",
       "      <th>twissed_version</th>\n",
       "      <td>NaN</td>\n",
       "      <td>Version of twissed used to generate the data.</td>\n",
       "    </tr>\n",
       "    <tr>\n",
       "      <th>project_name</th>\n",
       "      <td>NaN</td>\n",
       "      <td>Name of the twissed project.</td>\n",
       "    </tr>\n",
       "    <tr>\n",
       "      <th>project_author</th>\n",
       "      <td>NaN</td>\n",
       "      <td>Name of the twissed project.</td>\n",
       "    </tr>\n",
       "    <tr>\n",
       "      <th>project_description</th>\n",
       "      <td>NaN</td>\n",
       "      <td>Name of the twissed project.</td>\n",
       "    </tr>\n",
       "    <tr>\n",
       "      <th>project_type</th>\n",
       "      <td>NaN</td>\n",
       "      <td>Type of the twissed project (LWFA, ...).</td>\n",
       "    </tr>\n",
       "    <tr>\n",
       "      <th>...</th>\n",
       "      <td>...</td>\n",
       "      <td>...</td>\n",
       "    </tr>\n",
       "    <tr>\n",
       "      <th>waist0_max</th>\n",
       "      <td>m</td>\n",
       "      <td>Maximum laser waist.</td>\n",
       "    </tr>\n",
       "    <tr>\n",
       "      <th>zfield_a0</th>\n",
       "      <td>m</td>\n",
       "      <td>Grid positions z of a0_max</td>\n",
       "    </tr>\n",
       "    <tr>\n",
       "      <th>z_FWHM_intensity_simu</th>\n",
       "      <td>m</td>\n",
       "      <td>FWHM length of the intensity in the longitudin...</td>\n",
       "    </tr>\n",
       "    <tr>\n",
       "      <th>r_FWHM_intensity_simu</th>\n",
       "      <td>m</td>\n",
       "      <td>FWHM length of the intensity in the transverse...</td>\n",
       "    </tr>\n",
       "    <tr>\n",
       "      <th>timesteps</th>\n",
       "      <td>NaN</td>\n",
       "      <td>Simulation time step indexes.</td>\n",
       "    </tr>\n",
       "  </tbody>\n",
       "</table>\n",
       "<p>156 rows × 2 columns</p>\n",
       "</div>"
      ],
      "text/plain": [
       "                      units                                               info\n",
       "twissed_version         NaN      Version of twissed used to generate the data.\n",
       "project_name            NaN                       Name of the twissed project.\n",
       "project_author          NaN                       Name of the twissed project.\n",
       "project_description     NaN                       Name of the twissed project.\n",
       "project_type            NaN           Type of the twissed project (LWFA, ...).\n",
       "...                     ...                                                ...\n",
       "waist0_max                m                               Maximum laser waist.\n",
       "zfield_a0                 m                         Grid positions z of a0_max\n",
       "z_FWHM_intensity_simu     m  FWHM length of the intensity in the longitudin...\n",
       "r_FWHM_intensity_simu     m  FWHM length of the intensity in the transverse...\n",
       "timesteps               NaN                      Simulation time step indexes.\n",
       "\n",
       "[156 rows x 2 columns]"
      ]
     },
     "execution_count": 5,
     "metadata": {},
     "output_type": "execute_result"
    }
   ],
   "source": [
    "twissed.STD_DATABASE_DF[['units','info']]"
   ]
  },
  {
   "cell_type": "code",
   "execution_count": 6,
   "metadata": {},
   "outputs": [
    {
     "data": {
      "text/plain": [
       "Index(['twissed_version', 'project_name', 'project_author',\n",
       "       'project_description', 'project_type', 'project_date',\n",
       "       'project_first_id', 'project_directory', 'project_source', 'id',\n",
       "       ...\n",
       "       'Et1D', 'Et2D', 'a01D', 'a02D', 'a0_max', 'waist0_max', 'zfield_a0',\n",
       "       'z_FWHM_intensity_simu', 'r_FWHM_intensity_simu', 'timesteps'],\n",
       "      dtype='object', length=156)"
      ]
     },
     "execution_count": 6,
     "metadata": {},
     "output_type": "execute_result"
    }
   ],
   "source": [
    "twissed.STD_DATABASE_DF.index"
   ]
  },
  {
   "cell_type": "code",
   "execution_count": 7,
   "metadata": {},
   "outputs": [
    {
     "data": {
      "text/plain": [
       "twissed_version              Version of twissed used to generate the data.\n",
       "project_name                                  Name of the twissed project.\n",
       "project_author                                Name of the twissed project.\n",
       "project_description                           Name of the twissed project.\n",
       "project_type                      Type of the twissed project (LWFA, ...).\n",
       "                                               ...                        \n",
       "waist0_max                                            Maximum laser waist.\n",
       "zfield_a0                                       Grid positions z of a0_max\n",
       "z_FWHM_intensity_simu    FWHM length of the intensity in the longitudin...\n",
       "r_FWHM_intensity_simu    FWHM length of the intensity in the transverse...\n",
       "timesteps                                    Simulation time step indexes.\n",
       "Name: info, Length: 156, dtype: object"
      ]
     },
     "execution_count": 7,
     "metadata": {},
     "output_type": "execute_result"
    }
   ],
   "source": [
    "twissed.STD_DATABASE_DF['info']"
   ]
  },
  {
   "cell_type": "code",
   "execution_count": 8,
   "metadata": {},
   "outputs": [
    {
     "data": {
      "text/plain": [
       "name_latex                             $\\tilde{\\epsilon}_{xx'}$\n",
       "info          Normalized trace emittance 1-rms $\\gamma \\beta...\n",
       "type                                                      float\n",
       "units                                                pi.mm.mrad\n",
       "Name: emit_norm_rms_x, dtype: object"
      ]
     },
     "execution_count": 8,
     "metadata": {},
     "output_type": "execute_result"
    }
   ],
   "source": [
    "twissed.STD_DATABASE_DF.loc['emit_norm_rms_x']"
   ]
  }
 ],
 "metadata": {
  "kernelspec": {
   "display_name": "Python 3",
   "language": "python",
   "name": "python3"
  },
  "language_info": {
   "codemirror_mode": {
    "name": "ipython",
    "version": 3
   },
   "file_extension": ".py",
   "mimetype": "text/x-python",
   "name": "python",
   "nbconvert_exporter": "python",
   "pygments_lexer": "ipython3",
   "version": "3.10.4"
  },
  "orig_nbformat": 4,
  "vscode": {
   "interpreter": {
    "hash": "c23333cb0458ded6b935708c8f365f81fbd1029188626229c87b549905e02f46"
   }
  }
 },
 "nbformat": 4,
 "nbformat_minor": 2
}
