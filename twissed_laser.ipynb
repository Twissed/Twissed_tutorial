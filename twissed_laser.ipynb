{
 "cells": [
  {
   "cell_type": "code",
   "execution_count": 1,
   "metadata": {},
   "outputs": [
    {
     "name": "stdout",
     "output_type": "stream",
     "text": [
      "\n",
      " twissed (v2.1.1, 2023/01/25)\n",
      "\n"
     ]
    }
   ],
   "source": [
    "import twissed\n",
    "\n",
    "import matplotlib.pyplot as plt\n",
    "import numpy as np\n",
    "import scipy.constants as const"
   ]
  },
  {
   "cell_type": "code",
   "execution_count": 2,
   "metadata": {},
   "outputs": [],
   "source": [
    "# Script from Francesco Massimo\n",
    "\n",
    "lambda0 = 0.8 * twissed.micro\n",
    "\n",
    "a0 = 1.369\n",
    "waist0 = 20.9 * twissed.micro\n",
    "tau_fbpic = 25 * twissed.femto\n",
    "\n",
    "duration_FWHM = twissed.convert_laser_duration_FWHM(tau_fbpic , convert= \"fbpic_to_FWHM\")\n",
    " \n",
    "laser = twissed.Laser()\n",
    "\n",
    "laser.set_laser(\n",
    "                lambda0,\n",
    "                a0,\n",
    "                waist0,\n",
    "                duration_FWHM,\n",
    ")"
   ]
  },
  {
   "cell_type": "code",
   "execution_count": 3,
   "metadata": {},
   "outputs": [
    {
     "name": "stdout",
     "output_type": "stream",
     "text": [
      "1.369, Maximum laser strength parameter.\n",
      "1.7419597127682662e+27 [m-3], Laser critical density.\n",
      "2.9435250562886867e-14 [s], Laser FWHM duration.\n",
      "2354564459136066.5 [rad/s], Laser angular frequency $2 \\pi c / \\lambda_0$\n",
      "4013376368250.118 [V/m], Reference laser electric field $E_{0} = m_{\\mathrm{e}} c \\omega_0 / e$\n"
     ]
    }
   ],
   "source": [
    "laser.print('a0')\n",
    "laser.print('n_crit')\n",
    "laser.print('duration_FWHM')\n",
    "laser.print('omega0')\n",
    "laser.print('Efield_laser')"
   ]
  },
  {
   "cell_type": "code",
   "execution_count": 4,
   "metadata": {},
   "outputs": [],
   "source": [
    "nz = 1024 # number of mesh points in the longitudinal direction\n",
    "nr = 200 # number of mesh points in the radial direction (half plane)\n",
    "dz = 0.076 * twissed.micro # longitudinal mesh resolution, m\n",
    "dr = 0.33 * twissed.micro # transverse mesh resolution, m\n",
    "\n",
    "Lz                  = nz * dz                   # longitudinal size of the simulation window, m\n",
    "Lr                  = nr * dr                   # transverse size of the simulation window (half plane), m\n",
    "\n",
    "z_laser_from_right_border = 30.6 * twissed.micro\n",
    "\n",
    "z_focalisation = Lz - z_laser_from_right_border\n",
    "\n",
    "plasma_density = 3.3e24  # m-3\n",
    "\n",
    "laser.set_power(\n",
    "                z_focalisation,\n",
    "                z_laser_from_right_border,\n",
    "                nz,\n",
    "                nr,\n",
    "                dz, \n",
    "                dr, \n",
    "                plasma_density,\n",
    ")"
   ]
  },
  {
   "cell_type": "code",
   "execution_count": 5,
   "metadata": {},
   "outputs": [
    {
     "data": {
      "text/plain": [
       "{'a0': 1.369,\n",
       " 'lambda0': 8e-07,\n",
       " 'waist0': 2.0899999999999996e-05,\n",
       " 'duration_FWHM': 2.9435250562886867e-14,\n",
       " 'omega0': 2354564459136066.5,\n",
       " 'Efield_laser': 4013376368250.118,\n",
       " 'n_crit': 1.7419597127682662e+27,\n",
       " 'z_laser_from_right_border': 3.06e-05,\n",
       " 'center_laser': 1.575223083163753e-13,\n",
       " 'z_focalisation': 4.7223999999999994e-05,\n",
       " 'energy_laser': 0.9534316542615039,\n",
       " 'power_critical': 8.973731853654705,\n",
       " 'power_laser': 31.616672991662863,\n",
       " 'power_ratio_critical': 3.5232469063343403,\n",
       " 'r_FWHM_intensity': 3.1839195979899496e-05,\n",
       " 'r_FWHM_field': 4.377889447236181e-05,\n",
       " 'z_FWHM_field': 8.748543499511237,\n",
       " 'z_FWHM_intensity': 6.162017595307922,\n",
       " 'omega_pe': 102482214399365.64}"
      ]
     },
     "execution_count": 5,
     "metadata": {},
     "output_type": "execute_result"
    }
   ],
   "source": [
    "laser.__dict__"
   ]
  },
  {
   "cell_type": "code",
   "execution_count": 6,
   "metadata": {},
   "outputs": [
    {
     "name": "stdout",
     "output_type": "stream",
     "text": [
      "0.9534316542615039 [J], Total laser energy produced.\n",
      "8.973731853654705 [TW], Critical power in the plasma.\n",
      "31.616672991662863 [TW], Total laser power (through the waist).\n",
      "3.5232469063343403, Ratio of the laser power over the critical power.\n"
     ]
    }
   ],
   "source": [
    "laser.print('energy_laser')\n",
    "laser.print('power_critical')\n",
    "laser.print('power_laser')\n",
    "laser.print('power_ratio_critical')"
   ]
  },
  {
   "cell_type": "code",
   "execution_count": 7,
   "metadata": {},
   "outputs": [
    {
     "data": {
      "text/plain": [
       "<matplotlib.legend.Legend at 0x235a880a9e0>"
      ]
     },
     "execution_count": 7,
     "metadata": {},
     "output_type": "execute_result"
    },
    {
     "data": {
      "image/png": "[encoded data removed]",
      "text/plain": [
       "<Figure size 432x288 with 1 Axes>"
      ]
     },
     "metadata": {
      "needs_background": "light"
     },
     "output_type": "display_data"
    }
   ],
   "source": [
    "\n",
    "### mesh\n",
    "# Note that this is the simulation box (moving window)\n",
    "\n",
    "z_mesh = np.linspace(0,Lz,num=nz)\n",
    "r_mesh = np.linspace(0,Lr,num=nr)\n",
    "\n",
    "plt.figure()\n",
    "plt.title(\"Temporal profile\")\n",
    "\n",
    "temporal_profile_field     = np.zeros(np.size(z_mesh))\n",
    "for i in range(0,nz):\n",
    "\ttemporal_profile_field[i] = np.abs(laser.FGB(z_mesh[i],0.,z_mesh[i]/const.c))\n",
    "\n",
    "plt.plot(z_mesh/twissed.micro,(temporal_profile_field)**2,label=\"Intensity\")\n",
    "plt.plot(z_mesh/twissed.micro,temporal_profile_field,label=\"Field\")\n",
    "plt.xlabel(\"z [um]\")\n",
    "\n",
    "plt.vlines(z_mesh[np.argmax(temporal_profile_field**2)]/twissed.micro+laser.z_FWHM_intensity/2,0,4)\n",
    "\n",
    "plt.legend()\n",
    "\n"
   ]
  },
  {
   "cell_type": "code",
   "execution_count": 8,
   "metadata": {},
   "outputs": [
    {
     "data": {
      "text/plain": [
       "<matplotlib.legend.Legend at 0x235aa9a6f80>"
      ]
     },
     "execution_count": 8,
     "metadata": {},
     "output_type": "execute_result"
    },
    {
     "data": {
      "image/png": "[encoded data removed]",
      "text/plain": [
       "<Figure size 432x288 with 1 Axes>"
      ]
     },
     "metadata": {
      "needs_background": "light"
     },
     "output_type": "display_data"
    }
   ],
   "source": [
    "plt.figure()\n",
    "plt.title(\"Transverse profile\")\n",
    "plt.plot(r_mesh/twissed.micro,np.abs(laser.FGB(laser.center_laser,r_mesh[:],laser.center_laser))**2,label=\"Intensity\")\n",
    "plt.plot(r_mesh/twissed.micro,np.abs(laser.FGB(laser.center_laser,r_mesh[:],laser.center_laser)),label=\"Field\")\n",
    "plt.xlabel(\"r [um]\")\n",
    "plt.legend()"
   ]
  },
  {
   "cell_type": "code",
   "execution_count": 9,
   "metadata": {},
   "outputs": [
    {
     "name": "stdout",
     "output_type": "stream",
     "text": [
      "omega_pe =  87397126094616.05\n",
      "omega_0 =  2354564459136066.5\n"
     ]
    }
   ],
   "source": [
    "ne = 2.4e24 # m-3\n",
    "print('omega_pe = ',twissed.plasma_frequency(ne))\n",
    "\n",
    "print('omega_0 = ',twissed.omega_laser(lambda0))"
   ]
  },
  {
   "cell_type": "code",
   "execution_count": 10,
   "metadata": {},
   "outputs": [
    {
     "data": {
      "text/plain": [
       "[<matplotlib.lines.Line2D at 0x235aaa55d80>]"
      ]
     },
     "execution_count": 10,
     "metadata": {},
     "output_type": "execute_result"
    },
    {
     "data": {
      "image/png": "[encoded data removed]",
      "text/plain": [
       "<Figure size 432x288 with 1 Axes>"
      ]
     },
     "metadata": {
      "needs_background": "light"
     },
     "output_type": "display_data"
    }
   ],
   "source": [
    "waist = twissed.waist0_theory(z_mesh, laser.waist0, laser.lambda0, zfoc=laser.z_focalisation)\n",
    "\n",
    "plt.plot(z_mesh/twissed.micro,waist/twissed.micro,label=\"Waist\")"
   ]
  }
 ],
 "metadata": {
  "kernelspec": {
   "display_name": "Python 3",
   "language": "python",
   "name": "python3"
  },
  "language_info": {
   "codemirror_mode": {
    "name": "ipython",
    "version": 3
   },
   "file_extension": ".py",
   "mimetype": "text/x-python",
   "name": "python",
   "nbconvert_exporter": "python",
   "pygments_lexer": "ipython3",
   "version": "3.10.4"
  },
  "orig_nbformat": 4
 },
 "nbformat": 4,
 "nbformat_minor": 2
}
